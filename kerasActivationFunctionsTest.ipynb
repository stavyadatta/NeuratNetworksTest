{
  "nbformat": 4,
  "nbformat_minor": 0,
  "metadata": {
    "colab": {
      "name": "kerasActivationFunctionsTest",
      "provenance": []
    },
    "kernelspec": {
      "name": "python3",
      "display_name": "Python 3"
    }
  },
  "cells": [
    {
      "cell_type": "code",
      "metadata": {
        "id": "BPVD4ZKCHhFo",
        "colab_type": "code",
        "colab": {}
      },
      "source": [
        "import numpy as np\n",
        "import pandas as pd\n",
        "from sklearn.model_selection import train_test_split\n",
        "from tensorflow import keras\n",
        "from sklearn.model_selection import train_test_split\n",
        "\n",
        "# Set up code checking\n",
        "\n",
        "img_rows, img_cols = 28, 28\n",
        "num_classes = 10\n",
        "\n",
        "def prep_data(raw):\n",
        "    y = raw[:, 0]\n",
        "    out_y = keras.utils.to_categorical(y, num_classes)\n",
        "    \n",
        "    x = raw[:,1:]\n",
        "   # print(len(x))\n",
        "    num_images = raw.shape[0]\n",
        "    #print(num_images, x, y)\n",
        "    out_x = x.reshape(num_images, img_rows, img_cols, 1)\n",
        "  #  print(out_x)\n",
        "    out_x = out_x / 255\n",
        "    return out_x, out_y\n"
      ],
      "execution_count": null,
      "outputs": []
    },
    {
      "cell_type": "code",
      "metadata": {
        "id": "rRFkL8gFH0fI",
        "colab_type": "code",
        "colab": {}
      },
      "source": [
        "file = \"/content/drive/My Drive/MNIST data/train.csv\"\n",
        "data = np.loadtxt(file, skiprows=1, delimiter=',')\n",
        "x, y = prep_data(data)"
      ],
      "execution_count": null,
      "outputs": []
    },
    {
      "cell_type": "code",
      "metadata": {
        "id": "__-5AhHiKTmG",
        "colab_type": "code",
        "colab": {
          "base_uri": "https://localhost:8080/",
          "height": 386
        },
        "outputId": "bb15c3e3-9ae8-4560-d36a-acbefa2394b6"
      },
      "source": [
        "from tensorflow.keras.models import Sequential\n",
        "from tensorflow.keras.layers import Dense, Flatten, Conv2D, Dropout, MaxPooling2D\n",
        "from keras.applications.resnet50 import ResNet50\n",
        "from keras.layers import LeakyReLU\n",
        "batch_size = 16\n",
        "\n",
        "model = Sequential()\n",
        "model.add(Conv2D(32, (3, 3), input_shape=(28, 28, 1), padding='same', activation='relu'))\n",
        "model.add(MaxPooling2D())\n",
        "model.add(Conv2D(64, (3, 3), padding='same'))\n",
        "model.add(MaxPooling2D())\n",
        "model.add(Flatten())\n",
        "model.add(Dense(128, activation='sigmoid'))\n",
        "model.add(Dense(10, activation='softmax'))\n",
        "\n",
        "model.summary()"
      ],
      "execution_count": null,
      "outputs": [
        {
          "output_type": "stream",
          "text": [
            "Model: \"sequential_9\"\n",
            "_________________________________________________________________\n",
            "Layer (type)                 Output Shape              Param #   \n",
            "=================================================================\n",
            "conv2d_18 (Conv2D)           (None, 28, 28, 32)        320       \n",
            "_________________________________________________________________\n",
            "max_pooling2d_18 (MaxPooling (None, 14, 14, 32)        0         \n",
            "_________________________________________________________________\n",
            "conv2d_19 (Conv2D)           (None, 14, 14, 64)        18496     \n",
            "_________________________________________________________________\n",
            "max_pooling2d_19 (MaxPooling (None, 7, 7, 64)          0         \n",
            "_________________________________________________________________\n",
            "flatten_9 (Flatten)          (None, 3136)              0         \n",
            "_________________________________________________________________\n",
            "dense_18 (Dense)             (None, 128)               401536    \n",
            "_________________________________________________________________\n",
            "dense_19 (Dense)             (None, 10)                1290      \n",
            "=================================================================\n",
            "Total params: 421,642\n",
            "Trainable params: 421,642\n",
            "Non-trainable params: 0\n",
            "_________________________________________________________________\n"
          ],
          "name": "stdout"
        }
      ]
    },
    {
      "cell_type": "code",
      "metadata": {
        "id": "XTY5Mp61W838",
        "colab_type": "code",
        "colab": {}
      },
      "source": [
        "model.compile(loss=\"categorical_crossentropy\", optimizer = 'adam', metrics = ['accuracy'])"
      ],
      "execution_count": null,
      "outputs": []
    },
    {
      "cell_type": "code",
      "metadata": {
        "id": "8Hxm4XqsXGEV",
        "colab_type": "code",
        "colab": {
          "base_uri": "https://localhost:8080/",
          "height": 420
        },
        "outputId": "b083f3ea-5b94-4921-cd57-fc4175e6abc6"
      },
      "source": [
        "vgg = model.fit(x, y, batch_size=16, epochs=12, validation_split=0.2)"
      ],
      "execution_count": null,
      "outputs": [
        {
          "output_type": "stream",
          "text": [
            "Epoch 1/12\n",
            "2100/2100 [==============================] - 51s 24ms/step - loss: 0.1744 - accuracy: 0.9511 - val_loss: 0.0743 - val_accuracy: 0.9773\n",
            "Epoch 2/12\n",
            "2100/2100 [==============================] - 52s 25ms/step - loss: 0.0577 - accuracy: 0.9838 - val_loss: 0.0516 - val_accuracy: 0.9846\n",
            "Epoch 3/12\n",
            "2100/2100 [==============================] - 51s 24ms/step - loss: 0.0393 - accuracy: 0.9884 - val_loss: 0.0543 - val_accuracy: 0.9848\n",
            "Epoch 4/12\n",
            "2100/2100 [==============================] - 51s 24ms/step - loss: 0.0285 - accuracy: 0.9919 - val_loss: 0.0461 - val_accuracy: 0.9864\n",
            "Epoch 5/12\n",
            "2100/2100 [==============================] - 51s 24ms/step - loss: 0.0206 - accuracy: 0.9937 - val_loss: 0.0503 - val_accuracy: 0.9850\n",
            "Epoch 6/12\n",
            "2100/2100 [==============================] - 51s 24ms/step - loss: 0.0158 - accuracy: 0.9956 - val_loss: 0.0423 - val_accuracy: 0.9873\n",
            "Epoch 7/12\n",
            "2100/2100 [==============================] - 51s 24ms/step - loss: 0.0133 - accuracy: 0.9960 - val_loss: 0.0507 - val_accuracy: 0.9852\n",
            "Epoch 8/12\n",
            "2100/2100 [==============================] - 51s 24ms/step - loss: 0.0116 - accuracy: 0.9966 - val_loss: 0.0407 - val_accuracy: 0.9879\n",
            "Epoch 9/12\n",
            "2100/2100 [==============================] - 51s 24ms/step - loss: 0.0083 - accuracy: 0.9979 - val_loss: 0.0466 - val_accuracy: 0.9854\n",
            "Epoch 10/12\n",
            "2100/2100 [==============================] - 51s 24ms/step - loss: 0.0060 - accuracy: 0.9987 - val_loss: 0.0530 - val_accuracy: 0.9837\n",
            "Epoch 11/12\n",
            "2100/2100 [==============================] - 51s 24ms/step - loss: 0.0069 - accuracy: 0.9983 - val_loss: 0.0447 - val_accuracy: 0.9875\n",
            "Epoch 12/12\n",
            "2100/2100 [==============================] - 50s 24ms/step - loss: 0.0055 - accuracy: 0.9985 - val_loss: 0.0467 - val_accuracy: 0.9863\n"
          ],
          "name": "stdout"
        }
      ]
    },
    {
      "cell_type": "code",
      "metadata": {
        "id": "-fqbPZ1CzUnW",
        "colab_type": "code",
        "colab": {
          "base_uri": "https://localhost:8080/",
          "height": 281
        },
        "outputId": "af49b4e5-aca5-4c86-fe12-ce3d2b5695a3"
      },
      "source": [
        "import matplotlib.pyplot as plt\n",
        "fig, axs = plt.subplots(2)\n",
        "loss_train = vgg.history['loss']\n",
        "loss_val = vgg.history['val_loss']\n",
        "epochs = range(12)\n",
        "axs[0].plot(epochs, loss_train, 'g', label='Training loss')\n",
        "axs[0].plot(epochs, loss_val, 'b', label='validation loss')\n",
        "axs[0].set_title('Training and Validation loss')\n",
        "axs[0].set(xlabel='Epochs', ylabel=\"Loss\")\n",
        "axs[0].legend()\n",
        "plt.show()"
      ],
      "execution_count": null,
      "outputs": [
        {
          "output_type": "display_data",
          "data": {
            "image/png": "[encoded data removed]",
            "text/plain": [
              "<Figure size 432x288 with 2 Axes>"
            ]
          },
          "metadata": {
            "tags": [],
            "needs_background": "light"
          }
        }
      ]
    },
    {
      "cell_type": "code",
      "metadata": {
        "id": "lrgwpl2DxAVr",
        "colab_type": "code",
        "colab": {
          "base_uri": "https://localhost:8080/",
          "height": 295
        },
        "outputId": "11592ae4-5ef6-432b-faf6-185b6531b79e"
      },
      "source": [
        "loss_train = vgg.history['accuracy']\n",
        "loss_val = vgg.history['val_accuracy']\n",
        "epochs = range(12)\n",
        "plt.plot(epochs, loss_train, 'g', label='Training accuracy')\n",
        "plt.plot(epochs, loss_val, 'b', label='validation accuracy')\n",
        "plt.title('Training and Validation accuracy')\n",
        "plt.xlabel('Epochs')\n",
        "plt.ylabel('Accuracy')\n",
        "plt.legend()\n",
        "plt.show()"
      ],
      "execution_count": null,
      "outputs": [
        {
          "output_type": "display_data",
          "data": {
            "image/png": "[encoded data removed]",
            "text/plain": [
              "<Figure size 432x288 with 1 Axes>"
            ]
          },
          "metadata": {
            "tags": [],
            "needs_background": "light"
          }
        }
      ]
    }
  ]
}